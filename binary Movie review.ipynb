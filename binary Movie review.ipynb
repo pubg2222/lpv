{
 "cells": [
  {
   "cell_type": "code",
   "execution_count": 1,
   "id": "cd75e097",
   "metadata": {},
   "outputs": [],
   "source": [
    "import numpy as np\n",
    "from tensorflow.keras.datasets import imdb\n",
    "from tensorflow.keras.models import Sequential\n",
    "from tensorflow.keras.layers import Dense, Dropout, Embedding, Flatten\n",
    "from tensorflow.keras.preprocessing.sequence import pad_sequences"
   ]
  },
  {
   "cell_type": "code",
   "execution_count": 2,
   "id": "35abf85f",
   "metadata": {},
   "outputs": [],
   "source": [
    "max_features = 10000 \n",
    "maxlen = 200 \n",
    "batch_size = 32\n",
    "embedding_dim = 50\n",
    "epochs = 3"
   ]
  },
  {
   "cell_type": "code",
   "execution_count": 3,
   "id": "745972e3",
   "metadata": {},
   "outputs": [],
   "source": [
    "(x_train, y_train), (x_test, y_test) = imdb.load_data(num_words=max_features)"
   ]
  },
  {
   "cell_type": "code",
   "execution_count": 4,
   "id": "3f8f513a",
   "metadata": {},
   "outputs": [],
   "source": [
    "x_train = pad_sequences(x_train, maxlen=maxlen)\n",
    "x_test = pad_sequences(x_test, maxlen=maxlen)\n",
    "model = Sequential()\n",
    "model.add(Embedding(max_features, embedding_dim, input_length=maxlen))\n",
    "model.add(Flatten())\n",
    "model.add(Dense(32, activation='relu'))\n",
    "model.add(Dense(1, activation='sigmoid'))"
   ]
  },
  {
   "cell_type": "code",
   "execution_count": 5,
   "id": "9d6bfa51",
   "metadata": {},
   "outputs": [],
   "source": [
    "model.compile(optimizer='adam', loss='binary_crossentropy', metrics=['accuracy'])"
   ]
  },
  {
   "cell_type": "code",
   "execution_count": 6,
   "id": "b1bb2591",
   "metadata": {},
   "outputs": [
    {
     "name": "stdout",
     "output_type": "stream",
     "text": [
      "Epoch 1/3\n",
      "782/782 [==============================] - 14s 17ms/step - loss: 0.3967 - accuracy: 0.8007 - val_loss: 0.3037 - val_accuracy: 0.8683\n",
      "Epoch 2/3\n",
      "782/782 [==============================] - 13s 16ms/step - loss: 0.0910 - accuracy: 0.9702 - val_loss: 0.4087 - val_accuracy: 0.8492\n",
      "Epoch 3/3\n",
      "782/782 [==============================] - 12s 16ms/step - loss: 0.0129 - accuracy: 0.9969 - val_loss: 0.5017 - val_accuracy: 0.8553\n",
      "782/782 [==============================] - 2s 2ms/step - loss: 0.5017 - accuracy: 0.8553\n",
      "Test Accuracy: 0.8553199768066406\n"
     ]
    }
   ],
   "source": [
    "model.fit(x_train, y_train, epochs=epochs, batch_size=batch_size, validation_data=(x_test, y_test))\n",
    "loss, accuracy = model.evaluate(x_test, y_test)\n",
    "print(\"Test Accuracy:\", accuracy)"
   ]
  },
  {
   "cell_type": "code",
   "execution_count": 7,
   "id": "9bd92ef6",
   "metadata": {},
   "outputs": [],
   "source": [
    "from tensorflow.keras.preprocessing.text import Tokenizer\n",
    "from tensorflow.keras.preprocessing.sequence import pad_sequences\n",
    "new_data = [\n",
    "    \"This movie was fantastic! The acting was superb and the plot was gripping.\",\n",
    "    \"It was a great and amazing movie.\",\n",
    "    \"It was an average movie. Not great, but not terrible either.\"\n",
    "]\n",
    "max_words = 10000 "
   ]
  },
  {
   "cell_type": "code",
   "execution_count": 8,
   "id": "2e577917",
   "metadata": {},
   "outputs": [
    {
     "name": "stdout",
     "output_type": "stream",
     "text": [
      "1/1 [==============================] - 0s 74ms/step\n"
     ]
    }
   ],
   "source": [
    "tokenizer = Tokenizer(num_words=max_words)\n",
    "tokenizer.fit_on_texts(new_data)\n",
    "new_sequences = tokenizer.texts_to_sequences(new_data)\n",
    "maxlen = 200 \n",
    "new_sequences = pad_sequences(new_sequences, maxlen=maxlen)\n",
    "predictions = model.predict(new_sequences)\n",
    "predicted_labels = [1 if pred > 0.5 else 0 for pred in predictions]"
   ]
  },
  {
   "cell_type": "code",
   "execution_count": 9,
   "id": "d6504a39",
   "metadata": {
    "scrolled": false
   },
   "outputs": [
    {
     "name": "stdout",
     "output_type": "stream",
     "text": [
      "Review: 'This movie was fantastic! The acting was superb and the plot was gripping.' --> Predicted Label: Positive\n",
      "Review: 'It was a great and amazing movie.' --> Predicted Label: Positive\n",
      "Review: 'It was an average movie. Not great, but not terrible either.' --> Predicted Label: Positive\n"
     ]
    }
   ],
   "source": [
    "for i, review in enumerate(new_data):\n",
    "    if predicted_labels[i] == 1:\n",
    "        print(f\"Review: '{review}' --> Predicted Label: Positive\")\n",
    "    else:\n",
    "        print(f\"Review: '{review}' --> Predicted Label: Negative\")\n",
    "        1"
   ]
  }
 ],
 "metadata": {
  "kernelspec": {
   "display_name": "Python 3 (ipykernel)",
   "language": "python",
   "name": "python3"
  },
  "language_info": {
   "codemirror_mode": {
    "name": "ipython",
    "version": 3
   },
   "file_extension": ".py",
   "mimetype": "text/x-python",
   "name": "python",
   "nbconvert_exporter": "python",
   "pygments_lexer": "ipython3",
   "version": "3.11.3"
  }
 },
 "nbformat": 4,
 "nbformat_minor": 5
}
