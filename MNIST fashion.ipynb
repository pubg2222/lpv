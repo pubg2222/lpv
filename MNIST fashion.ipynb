{
 "cells": [
  {
   "cell_type": "code",
   "execution_count": 1,
   "metadata": {
    "id": "1BM-7y8GUqgw"
   },
   "outputs": [],
   "source": [
    "\n",
    "import tensorflow as tf\n",
    "import matplotlib.pyplot as plt\n",
    "from tensorflow import keras\n",
    "import numpy as np"
   ]
  },
  {
   "cell_type": "code",
   "execution_count": 2,
   "metadata": {
    "id": "slAhZJQkVLhh"
   },
   "outputs": [],
   "source": [
    "(x_train, y_train), (x_test, y_test) = keras.datasets.fashion_mnist.load_data()"
   ]
  },
  {
   "cell_type": "code",
   "execution_count": 3,
   "metadata": {
    "colab": {
     "base_uri": "https://localhost:8080/",
     "height": 447
    },
    "id": "fKGlyQEeVOS7",
    "outputId": "98ccd60c-7641-40d2-a9a8-9fc6ad3e342a"
   },
   "outputs": [
    {
     "data": {
      "text/plain": [
       "<matplotlib.image.AxesImage at 0x23ba9daf950>"
      ]
     },
     "execution_count": 3,
     "metadata": {},
     "output_type": "execute_result"
    },
    {
     "data": {
      "image/png": "[encoded data removed]",
      "text/plain": [
       "<Figure size 640x480 with 1 Axes>"
      ]
     },
     "metadata": {},
     "output_type": "display_data"
    }
   ],
   "source": [
    "plt.imshow(x_train[0],cmap='gray')"
   ]
  },
  {
   "cell_type": "code",
   "execution_count": 4,
   "metadata": {
    "colab": {
     "base_uri": "https://localhost:8080/",
     "height": 447
    },
    "id": "oDIE2h8zVO99",
    "outputId": "5e0edcb0-8e6c-49ed-bd5e-11a765bbd0e9"
   },
   "outputs": [
    {
     "data": {
      "text/plain": [
       "<matplotlib.image.AxesImage at 0x23ba9e38f10>"
      ]
     },
     "execution_count": 4,
     "metadata": {},
     "output_type": "execute_result"
    },
    {
     "data": {
      "image/png": "[encoded data removed]",
      "text/plain": [
       "<Figure size 640x480 with 1 Axes>"
      ]
     },
     "metadata": {},
     "output_type": "display_data"
    }
   ],
   "source": [
    "plt.imshow(x_train[1],cmap='gray')"
   ]
  },
  {
   "cell_type": "code",
   "execution_count": 5,
   "metadata": {
    "id": "OCorWNYOVRoe"
   },
   "outputs": [],
   "source": [
    "x_train1 = x_train.astype('float32') / 255.0\n",
    "x_test1 = x_test.astype('float32') / 255.0\n",
    "x_train1 = x_train1.reshape(-1, 28, 28, 1)\n",
    "x_test1 = x_test1.reshape(-1, 28, 28, 1)"
   ]
  },
  {
   "cell_type": "code",
   "execution_count": 6,
   "metadata": {
    "colab": {
     "base_uri": "https://localhost:8080/"
    },
    "id": "ZP4qlST1VTiC",
    "outputId": "990dec31-ebe4-4675-a85a-8a2593563633"
   },
   "outputs": [
    {
     "data": {
      "text/plain": [
       "(60000, 28, 28, 1)"
      ]
     },
     "execution_count": 6,
     "metadata": {},
     "output_type": "execute_result"
    }
   ],
   "source": [
    "x_train1.shape"
   ]
  },
  {
   "cell_type": "code",
   "execution_count": 7,
   "metadata": {
    "colab": {
     "base_uri": "https://localhost:8080/"
    },
    "id": "1yj4f6TtVcHh",
    "outputId": "9495ff6e-31c3-4a5c-cddc-9aa057b0e529"
   },
   "outputs": [
    {
     "data": {
      "text/plain": [
       "(10000, 28, 28, 1)"
      ]
     },
     "execution_count": 7,
     "metadata": {},
     "output_type": "execute_result"
    }
   ],
   "source": [
    "x_test1.shape"
   ]
  },
  {
   "cell_type": "code",
   "execution_count": 8,
   "metadata": {
    "colab": {
     "base_uri": "https://localhost:8080/"
    },
    "id": "Uje9mDu0VdmI",
    "outputId": "8d5715a7-f9ad-4106-f694-20d7b901e7ee"
   },
   "outputs": [
    {
     "data": {
      "text/plain": [
       "(60000,)"
      ]
     },
     "execution_count": 8,
     "metadata": {},
     "output_type": "execute_result"
    }
   ],
   "source": [
    "y_train.shape"
   ]
  },
  {
   "cell_type": "code",
   "execution_count": 9,
   "metadata": {
    "colab": {
     "base_uri": "https://localhost:8080/"
    },
    "id": "V7XW2CwmVelG",
    "outputId": "9f1dfe23-6994-4094-da6c-b9e9de469921"
   },
   "outputs": [
    {
     "data": {
      "text/plain": [
       "(10000,)"
      ]
     },
     "execution_count": 9,
     "metadata": {},
     "output_type": "execute_result"
    }
   ],
   "source": [
    "y_test.shape"
   ]
  },
  {
   "cell_type": "code",
   "execution_count": 10,
   "metadata": {
    "colab": {
     "base_uri": "https://localhost:8080/"
    },
    "id": "iXXbHlCeVfrW",
    "outputId": "b17ded06-634a-4866-c8f0-7dad1a855ccb"
   },
   "outputs": [
    {
     "name": "stdout",
     "output_type": "stream",
     "text": [
      "Model: \"sequential\"\n",
      "_________________________________________________________________\n",
      " Layer (type)                Output Shape              Param #   \n",
      "=================================================================\n",
      " conv2d (Conv2D)             (None, 26, 26, 32)        320       \n",
      "                                                                 \n",
      " max_pooling2d (MaxPooling2  (None, 13, 13, 32)        0         \n",
      " D)                                                              \n",
      "                                                                 \n",
      " dropout (Dropout)           (None, 13, 13, 32)        0         \n",
      "                                                                 \n",
      " conv2d_1 (Conv2D)           (None, 11, 11, 64)        18496     \n",
      "                                                                 \n",
      " max_pooling2d_1 (MaxPoolin  (None, 5, 5, 64)          0         \n",
      " g2D)                                                            \n",
      "                                                                 \n",
      " dropout_1 (Dropout)         (None, 5, 5, 64)          0         \n",
      "                                                                 \n",
      " conv2d_2 (Conv2D)           (None, 3, 3, 128)         73856     \n",
      "                                                                 \n",
      " flatten (Flatten)           (None, 1152)              0         \n",
      "                                                                 \n",
      " dense (Dense)               (None, 128)               147584    \n",
      "                                                                 \n",
      " dropout_2 (Dropout)         (None, 128)               0         \n",
      "                                                                 \n",
      " dense_1 (Dense)             (None, 10)                1290      \n",
      "                                                                 \n",
      "=================================================================\n",
      "Total params: 241546 (943.54 KB)\n",
      "Trainable params: 241546 (943.54 KB)\n",
      "Non-trainable params: 0 (0.00 Byte)\n",
      "_________________________________________________________________\n"
     ]
    }
   ],
   "source": [
    "model = keras.Sequential([\n",
    "keras.layers.Conv2D(32, (3,3), activation='relu', input_shape=(28,28,1)),\n",
    "keras.layers.MaxPooling2D((2,2)),\n",
    "keras.layers.Dropout(0.25),\n",
    "keras.layers.Conv2D(64, (3,3), activation='relu'),\n",
    "keras.layers.MaxPooling2D((2,2)),\n",
    "keras.layers.Dropout(0.25),\n",
    "keras.layers.Conv2D(128, (3,3), activation='relu'),\n",
    "keras.layers.Flatten(),\n",
    "keras.layers.Dense(128, activation='relu'),\n",
    "keras.layers.Dropout(0.25),\n",
    "keras.layers.Dense(10, activation='softmax')\n",
    "])\n",
    "model.summary()"
   ]
  },
  {
   "cell_type": "code",
   "execution_count": 11,
   "metadata": {
    "colab": {
     "base_uri": "https://localhost:8080/"
    },
    "id": "pwVfw7T6VyuQ",
    "outputId": "4b1bc06c-5375-40f9-fff8-ce5dd822fbf9"
   },
   "outputs": [
    {
     "name": "stdout",
     "output_type": "stream",
     "text": [
      "Epoch 1/5\n",
      "1875/1875 [==============================] - 32s 16ms/step - loss: 0.5657 - accuracy: 0.7901 - val_loss: 0.3598 - val_accuracy: 0.8678\n",
      "Epoch 2/5\n",
      "1875/1875 [==============================] - 31s 17ms/step - loss: 0.3594 - accuracy: 0.8676 - val_loss: 0.3149 - val_accuracy: 0.8863\n",
      "Epoch 3/5\n",
      "1875/1875 [==============================] - 31s 16ms/step - loss: 0.3164 - accuracy: 0.8820 - val_loss: 0.2954 - val_accuracy: 0.8892\n",
      "Epoch 4/5\n",
      "1875/1875 [==============================] - 32s 17ms/step - loss: 0.2916 - accuracy: 0.8940 - val_loss: 0.2834 - val_accuracy: 0.8950\n",
      "Epoch 5/5\n",
      "1875/1875 [==============================] - 31s 17ms/step - loss: 0.2760 - accuracy: 0.8984 - val_loss: 0.2757 - val_accuracy: 0.9036\n"
     ]
    }
   ],
   "source": [
    "model.compile(optimizer='adam', loss='sparse_categorical_crossentropy', metrics=['accuracy'])\n",
    "history = model.fit(x_train1, y_train, epochs=5, validation_data=(x_test1, y_test))"
   ]
  },
  {
   "cell_type": "code",
   "execution_count": 12,
   "metadata": {
    "colab": {
     "base_uri": "https://localhost:8080/"
    },
    "id": "ib2WWbliV2o3",
    "outputId": "a510aa8e-eea7-4793-8954-886a8924e353"
   },
   "outputs": [
    {
     "name": "stdout",
     "output_type": "stream",
     "text": [
      "Test loss:  0.27570176124572754\n",
      "Test accuracy: 0.9035999774932861\n"
     ]
    }
   ],
   "source": [
    "test_loss, test_acc = model.evaluate(x_test1, y_test,verbose=0)\n",
    "print('Test loss: ',test_loss)\n",
    "print('Test accuracy:', test_acc)"
   ]
  },
  {
   "cell_type": "code",
   "execution_count": 13,
   "metadata": {
    "colab": {
     "base_uri": "https://localhost:8080/",
     "height": 430
    },
    "id": "cqm-6axwYghV",
    "outputId": "6c2adf84-d773-4a4a-fc26-183f2696a795"
   },
   "outputs": [
    {
     "data": {
      "image/png": "[encoded data removed]",
      "text/plain": [
       "<Figure size 640x480 with 1 Axes>"
      ]
     },
     "metadata": {},
     "output_type": "display_data"
    }
   ],
   "source": [
    "from PIL import Image\n",
    "\n",
    "def preprocess_image(image_path):\n",
    "    img = Image.fromarray(image_path)\n",
    "    img = img.resize((28, 28),resample=Image.LANCZOS)\n",
    "    img = img.convert('L')\n",
    "    plt.imshow(img,cmap='gray')\n",
    "    img = np.array(img) / 255.0\n",
    "    img = img.reshape((1, 28, 28, 1))\n",
    "\n",
    "    return img\n",
    "\n",
    "\n",
    "input_image = preprocess_image(x_train[0])\n"
   ]
  },
  {
   "cell_type": "code",
   "execution_count": 14,
   "metadata": {
    "colab": {
     "base_uri": "https://localhost:8080/"
    },
    "id": "DBphd8QyTPSD",
    "outputId": "0158eba0-8942-441c-fde5-0199568ea037"
   },
   "outputs": [
    {
     "name": "stdout",
     "output_type": "stream",
     "text": [
      "[[1.6151159e-06 1.4427410e-07 2.1437567e-07 6.3904395e-07 8.4364700e-08\n",
      "  5.7803110e-05 1.5785131e-06 4.1381191e-02 5.2628443e-06 9.5855147e-01]]\n",
      "The number is: Ankle boot\n"
     ]
    }
   ],
   "source": [
    "item=[\"T-shirt/top\",\"Trouser\",\"Pullover\",\"Dress\",\"Coat\",\"Sandal\",\"Shirt\",\"Sneaker\",\"Bag\",\"Ankle boot\"]\n",
    "prediction = model.predict(input_image,verbose=0)\n",
    "print(prediction)\n",
    "print(\"The number is:\",item[np.argmax(prediction)])"
   ]
  },
  {
   "cell_type": "code",
   "execution_count": 15,
   "metadata": {
    "colab": {
     "base_uri": "https://localhost:8080/",
     "height": 482
    },
    "id": "0SJeiVZEVY0c",
    "outputId": "f6c96616-9e2a-4b7a-aa2f-52f27007a283"
   },
   "outputs": [
    {
     "name": "stdout",
     "output_type": "stream",
     "text": [
      "[[2.9334764e-05 2.3425065e-08 9.9973947e-01 1.2498094e-07 2.6423417e-05\n",
      "  1.3657727e-08 2.0447517e-04 5.1804633e-11 1.3227661e-07 1.4421837e-11]]\n",
      "The number is: Pullover\n"
     ]
    },
    {
     "data": {
      "image/png": "[encoded data removed]",
      "text/plain": [
       "<Figure size 640x480 with 1 Axes>"
      ]
     },
     "metadata": {},
     "output_type": "display_data"
    }
   ],
   "source": [
    "item=[\"T-shirt/top\",\"Trouser\",\"Pullover\",\"Dress\",\"Coat\",\"Sandal\",\"Shirt\",\"Sneaker\",\"Bag\",\"Ankle boot\"]\n",
    "prediction = model.predict(preprocess_image(x_train[5]),verbose=0)\n",
    "print(prediction)\n",
    "print(\"The number is:\",item[np.argmax(prediction)])"
   ]
  },
  {
   "cell_type": "code",
   "execution_count": null,
   "metadata": {
    "id": "rvnVA-0uoTwg"
   },
   "outputs": [],
   "source": []
  }
 ],
 "metadata": {
  "colab": {
   "provenance": []
  },
  "kernelspec": {
   "display_name": "Python 3 (ipykernel)",
   "language": "python",
   "name": "python3"
  },
  "language_info": {
   "codemirror_mode": {
    "name": "ipython",
    "version": 3
   },
   "file_extension": ".py",
   "mimetype": "text/x-python",
   "name": "python",
   "nbconvert_exporter": "python",
   "pygments_lexer": "ipython3",
   "version": "3.11.3"
  }
 },
 "nbformat": 4,
 "nbformat_minor": 1
}
